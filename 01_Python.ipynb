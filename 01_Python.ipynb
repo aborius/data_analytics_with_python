{
 "cells": [
  {
   "cell_type": "markdown",
   "id": "e4611f38",
   "metadata": {},
   "source": [
    "# Python Tutorial: Base/Intermediate \n",
    "\n",
    "***by Alex Borio***"
   ]
  },
  {
   "cell_type": "markdown",
   "id": "052bbf66",
   "metadata": {},
   "source": [
    "<img src=\"https://logos-world.net/wp-content/uploads/2021/10/Python-Symbol.png\" alt=\"300\" width=\"300\" align=\"left\"/>"
   ]
  },
  {
   "cell_type": "markdown",
   "id": "001194f1",
   "metadata": {},
   "source": [
    "# Introduzione a Python"
   ]
  },
  {
   "cell_type": "markdown",
   "id": "a000e4ed",
   "metadata": {},
   "source": [
    "Python è un linguaggio di programmazione di \"alto livello\", orientato a oggetti, adatto a sviluppare applicazioni distribuite, scripting, computazione numerica e system testing. Viene utilizzato anche per il Machine Learning.\n",
    "\n",
    "Python è stato progettato in modo da risultare facilmente leggibile e scrivibile. Visivamente si presenta in modo lineare e pulito, con pochi costrutti sintattici rispetto ad altri linguaggi strutturati come per esempio C.\n",
    "\n",
    "Un aspetto importante del Python è il metodo che usa per delimitare i blocchi di programma, che lo rende unico fra i linguaggi più diffusi. Ovvero è FONDAMENTALE l'indentatura del codice."
   ]
  },
  {
   "cell_type": "markdown",
   "id": "a8bb51d9",
   "metadata": {},
   "source": [
    "# Modulo 1: Overview Python"
   ]
  },
  {
   "cell_type": "markdown",
   "id": "e454fe46",
   "metadata": {},
   "source": [
    "## Stampare una stringa"
   ]
  },
  {
   "cell_type": "code",
   "execution_count": 66,
   "id": "c0c4ee66",
   "metadata": {},
   "outputs": [
    {
     "name": "stdout",
     "output_type": "stream",
     "text": [
      "Hello World!\n"
     ]
    }
   ],
   "source": [
    "print('Hello World!')"
   ]
  },
  {
   "cell_type": "markdown",
   "id": "3faa884c",
   "metadata": {},
   "source": [
    "## Commenti"
   ]
  },
  {
   "cell_type": "code",
   "execution_count": 67,
   "id": "69a63159",
   "metadata": {},
   "outputs": [],
   "source": [
    "#Questo è il mio primo commento!"
   ]
  },
  {
   "cell_type": "markdown",
   "id": "a18904a6",
   "metadata": {},
   "source": [
    "## Data types"
   ]
  },
  {
   "cell_type": "markdown",
   "id": "04eac1b1",
   "metadata": {},
   "source": [
    "Python supporta quattro tipi di dati di base:\n",
    "- String: stringa di testo\n",
    "- Integer: numero intero\n",
    "- Float: numero decimale\n",
    "- Boolean: vero/falso\n",
    "\n",
    "Ognuno di questi tipi è un tipo di oggetto incorporato in Python.\n",
    "In Python, possiamo assegnare oggetti alle variabili utilizzando l'operatore =, come segue:\n",
    "\n",
    "    <variable_name> = <object>\n",
    "\n",
    "In questo modo, stiamo essenzialmente memorizzando un valore (sia esso un intero, una stringa, ecc.) in una variabile, in modo da poter accedere a quello stesso valore in un secondo momento nel nostro codice attraverso il nome della variabile."
   ]
  },
  {
   "cell_type": "markdown",
   "id": "cfc82e88",
   "metadata": {},
   "source": [
    "### Stringa - string"
   ]
  },
  {
   "cell_type": "code",
   "execution_count": 68,
   "id": "bee1e98f",
   "metadata": {},
   "outputs": [
    {
     "name": "stdout",
     "output_type": "stream",
     "text": [
      "P\n"
     ]
    }
   ],
   "source": [
    "char= 'P'\n",
    "print(char)"
   ]
  },
  {
   "cell_type": "code",
   "execution_count": 69,
   "id": "00233502",
   "metadata": {},
   "outputs": [
    {
     "name": "stdout",
     "output_type": "stream",
     "text": [
      "\n"
     ]
    }
   ],
   "source": [
    "empty_string= '' #stringa vuota\n",
    "\n",
    "print(empty_string)"
   ]
  },
  {
   "cell_type": "code",
   "execution_count": 70,
   "id": "fae39a93",
   "metadata": {},
   "outputs": [
    {
     "name": "stdout",
     "output_type": "stream",
     "text": [
      "<class 'str'>\n"
     ]
    }
   ],
   "source": [
    "frase= 'Hello World!'\n",
    "\n",
    "print(type(frase))"
   ]
  },
  {
   "cell_type": "code",
   "execution_count": 71,
   "id": "2cbd1a86",
   "metadata": {},
   "outputs": [
    {
     "name": "stdout",
     "output_type": "stream",
     "text": [
      "Hello World!\n",
      "Hello World!\n",
      "Hello \n",
      "World!\n"
     ]
    }
   ],
   "source": [
    "a= 'Hello World!' #apice singolo\n",
    "b= \"Hello World!\" #apice doppio\n",
    "c= '''Hello \n",
    "World!''' #stringa multilinea\n",
    "\n",
    "print(a)\n",
    "print(b)\n",
    "print(c)"
   ]
  },
  {
   "cell_type": "code",
   "execution_count": 72,
   "id": "f88f6d38",
   "metadata": {},
   "outputs": [
    {
     "name": "stdout",
     "output_type": "stream",
     "text": [
      " 'Essere o non essere' \n"
     ]
    }
   ],
   "source": [
    "frase= ' \\'Essere o non essere\\' ' #backslash before single or double quote (escape character)\n",
    "print(frase)"
   ]
  },
  {
   "cell_type": "markdown",
   "id": "81758bed",
   "metadata": {},
   "source": [
    "### Numero intero - integer"
   ]
  },
  {
   "cell_type": "code",
   "execution_count": 73,
   "id": "ed93bee6",
   "metadata": {},
   "outputs": [
    {
     "data": {
      "text/plain": [
       "int"
      ]
     },
     "execution_count": 73,
     "metadata": {},
     "output_type": "execute_result"
    }
   ],
   "source": [
    "age = 35\n",
    "\n",
    "type(age)"
   ]
  },
  {
   "cell_type": "markdown",
   "id": "96d9931d",
   "metadata": {},
   "source": [
    "### Numero decimale - float"
   ]
  },
  {
   "cell_type": "code",
   "execution_count": 74,
   "id": "31c780f9",
   "metadata": {},
   "outputs": [
    {
     "data": {
      "text/plain": [
       "float"
      ]
     },
     "execution_count": 74,
     "metadata": {},
     "output_type": "execute_result"
    }
   ],
   "source": [
    "speed = 4.5\n",
    "\n",
    "type(speed)"
   ]
  },
  {
   "cell_type": "markdown",
   "id": "42322c43",
   "metadata": {},
   "source": [
    "### Booleano"
   ]
  },
  {
   "cell_type": "code",
   "execution_count": 75,
   "id": "1360fee5",
   "metadata": {},
   "outputs": [
    {
     "data": {
      "text/plain": [
       "bool"
      ]
     },
     "execution_count": 75,
     "metadata": {},
     "output_type": "execute_result"
    }
   ],
   "source": [
    "gender = True\n",
    "\n",
    "type(gender)"
   ]
  },
  {
   "cell_type": "markdown",
   "id": "ad598c9c",
   "metadata": {},
   "source": [
    "### Conversione data type"
   ]
  },
  {
   "cell_type": "markdown",
   "id": "1bc09344",
   "metadata": {},
   "source": [
    "Possiamo convertire un oggetto in un tipo diverso chiamando la funzione corrispondente (int, str, ecc.).\n",
    "Potrebbe essere necessario eseguire operazioni su variabili di tipo diverso. Poiché i diversi tipi si comportano in modo diverso con alcuni operatori, è buona norma applicare preventivamente qualsiasi trasformazione delle variabili."
   ]
  },
  {
   "cell_type": "code",
   "execution_count": 76,
   "id": "9c1a7a18",
   "metadata": {},
   "outputs": [
    {
     "name": "stdout",
     "output_type": "stream",
     "text": [
      "num_int <class 'float'>\n"
     ]
    }
   ],
   "source": [
    "#Trasformare un intero in un float\n",
    "num_int = 5\n",
    "\n",
    "num_float = float(num_int)\n",
    "\n",
    "print(\"num_int\", type(num_float))"
   ]
  },
  {
   "cell_type": "code",
   "execution_count": 77,
   "id": "476f3542",
   "metadata": {},
   "outputs": [
    {
     "name": "stdout",
     "output_type": "stream",
     "text": [
      "str1 <class 'str'>\n"
     ]
    }
   ],
   "source": [
    "#Trasformare un float in stringa\n",
    "str1 = str(num_int)\n",
    "\n",
    "print(\"str1\",type(str1))"
   ]
  },
  {
   "cell_type": "markdown",
   "id": "ee18f884",
   "metadata": {},
   "source": [
    "## Operatori aritmetici"
   ]
  },
  {
   "cell_type": "markdown",
   "id": "89ba2e69",
   "metadata": {},
   "source": [
    "Le operazioni aritmetiche in Python vengono eseguite attraverso le espressioni.\n",
    "\n",
    "Le espressioni Python sono combinazioni di:\n",
    "- Operandi: valori su cui eseguire l'operazione (2, 4, ...)\n",
    "- Operatori: simboli che indicano l'operazione da eseguire (aggiungere, sottrarre, ...)\n",
    "\n",
    "Le operazioni aritmetiche in Python seguono la stessa gerarchia della matematica \n",
    "(le moltiplicazioni e le divisioni vengono eseguite prima delle addizioni e delle sottrazioni). \n",
    "Se vogliamo specificare l'ordine delle operazioni, possiamo utilizzare le parentesi"
   ]
  },
  {
   "cell_type": "markdown",
   "id": "5e7b3297",
   "metadata": {},
   "source": [
    "### Somma"
   ]
  },
  {
   "cell_type": "code",
   "execution_count": 78,
   "id": "4309b68b",
   "metadata": {},
   "outputs": [
    {
     "name": "stdout",
     "output_type": "stream",
     "text": [
      "9\n"
     ]
    },
    {
     "data": {
      "text/plain": [
       "'onetwo'"
      ]
     },
     "execution_count": 78,
     "metadata": {},
     "output_type": "execute_result"
    }
   ],
   "source": [
    "print(2 + 7)\n",
    "\n",
    "'one' + 'two'"
   ]
  },
  {
   "cell_type": "markdown",
   "id": "cd9c2ebb",
   "metadata": {},
   "source": [
    "### Sottrazione"
   ]
  },
  {
   "cell_type": "code",
   "execution_count": 79,
   "id": "426ea0de",
   "metadata": {},
   "outputs": [
    {
     "name": "stdout",
     "output_type": "stream",
     "text": [
      "-5\n"
     ]
    }
   ],
   "source": [
    "print(3 - 8)"
   ]
  },
  {
   "cell_type": "markdown",
   "id": "68ee8573",
   "metadata": {},
   "source": [
    "### Moltiplicazione"
   ]
  },
  {
   "cell_type": "code",
   "execution_count": 80,
   "id": "9c6b93fb",
   "metadata": {},
   "outputs": [
    {
     "name": "stdout",
     "output_type": "stream",
     "text": [
      "15\n"
     ]
    },
    {
     "data": {
      "text/plain": [
       "'oneoneone'"
      ]
     },
     "execution_count": 80,
     "metadata": {},
     "output_type": "execute_result"
    }
   ],
   "source": [
    "print(3 * 5)\n",
    "\n",
    "'one' * 3"
   ]
  },
  {
   "cell_type": "markdown",
   "id": "64fdf572",
   "metadata": {},
   "source": [
    "### Divisione"
   ]
  },
  {
   "cell_type": "code",
   "execution_count": 81,
   "id": "4b69af21",
   "metadata": {},
   "outputs": [
    {
     "name": "stdout",
     "output_type": "stream",
     "text": [
      "6.5\n"
     ]
    }
   ],
   "source": [
    "print(13 / 2)"
   ]
  },
  {
   "cell_type": "markdown",
   "id": "4b49d76f",
   "metadata": {},
   "source": [
    "### Divisione con arrotondamento"
   ]
  },
  {
   "cell_type": "code",
   "execution_count": 82,
   "id": "23772133",
   "metadata": {},
   "outputs": [
    {
     "name": "stdout",
     "output_type": "stream",
     "text": [
      "6\n"
     ]
    }
   ],
   "source": [
    "print(13 // 2)"
   ]
  },
  {
   "cell_type": "markdown",
   "id": "0b785a06",
   "metadata": {},
   "source": [
    "### Divisione con resto"
   ]
  },
  {
   "cell_type": "code",
   "execution_count": 83,
   "id": "b7c16a3c",
   "metadata": {},
   "outputs": [
    {
     "name": "stdout",
     "output_type": "stream",
     "text": [
      "1\n"
     ]
    }
   ],
   "source": [
    "print(13 % 2)"
   ]
  },
  {
   "cell_type": "markdown",
   "id": "eaede0c8",
   "metadata": {},
   "source": [
    "### Potenza"
   ]
  },
  {
   "cell_type": "code",
   "execution_count": 84,
   "id": "decca820",
   "metadata": {},
   "outputs": [
    {
     "name": "stdout",
     "output_type": "stream",
     "text": [
      "1024\n"
     ]
    }
   ],
   "source": [
    "print(2 ** 10)"
   ]
  },
  {
   "cell_type": "markdown",
   "id": "c0f5c299",
   "metadata": {},
   "source": [
    "### Ordine operazioni"
   ]
  },
  {
   "cell_type": "code",
   "execution_count": 85,
   "id": "efadb819",
   "metadata": {},
   "outputs": [
    {
     "name": "stdout",
     "output_type": "stream",
     "text": [
      "17\n"
     ]
    }
   ],
   "source": [
    "#La moltiplicazione sarà la prima operazione eseguita\n",
    "print(2+3*5)"
   ]
  },
  {
   "cell_type": "code",
   "execution_count": 86,
   "id": "bf2fd509",
   "metadata": {},
   "outputs": [
    {
     "name": "stdout",
     "output_type": "stream",
     "text": [
      "25\n"
     ]
    }
   ],
   "source": [
    "#La moltiplicazione sarà la seconda operazione eseguita\n",
    "print ((2+3)*5)"
   ]
  },
  {
   "cell_type": "markdown",
   "id": "62c0e499",
   "metadata": {},
   "source": [
    "## Variabili"
   ]
  },
  {
   "cell_type": "markdown",
   "id": "a8a37f23",
   "metadata": {},
   "source": [
    "<img src=\"https://miro.medium.com/max/1400/1*Px7h03Ih7B5QZu4KQpSEoQ.png\" alt=\"300\" width=\"300\" align=\"left\"/>\n"
   ]
  },
  {
   "cell_type": "code",
   "execution_count": 87,
   "id": "b044d15f",
   "metadata": {},
   "outputs": [],
   "source": [
    "variabile= 'Hello'"
   ]
  },
  {
   "cell_type": "code",
   "execution_count": 88,
   "id": "d7d46e15",
   "metadata": {},
   "outputs": [
    {
     "name": "stdout",
     "output_type": "stream",
     "text": [
      "Hello\n"
     ]
    }
   ],
   "source": [
    "print(variabile)"
   ]
  },
  {
   "cell_type": "code",
   "execution_count": 89,
   "id": "d5bf5681",
   "metadata": {},
   "outputs": [
    {
     "name": "stdout",
     "output_type": "stream",
     "text": [
      "Ciao a tutti\n",
      "10\n"
     ]
    }
   ],
   "source": [
    "frase= 'Ciao a tutti'\n",
    "numero= 10\n",
    "\n",
    "print(frase)\n",
    "print(numero)"
   ]
  },
  {
   "cell_type": "markdown",
   "id": "6b8fbfc3",
   "metadata": {},
   "source": [
    "### Programmino Area Rettangolo:"
   ]
  },
  {
   "cell_type": "code",
   "execution_count": 90,
   "id": "55959363",
   "metadata": {},
   "outputs": [
    {
     "name": "stdout",
     "output_type": "stream",
     "text": [
      "50\n"
     ]
    }
   ],
   "source": [
    "base= 10\n",
    "altezza= 5\n",
    "\n",
    "print(base*altezza)"
   ]
  },
  {
   "cell_type": "markdown",
   "id": "a2a913e8",
   "metadata": {},
   "source": [
    "### Regole per la creazione delle variabili in Python:\n",
    "\n",
    "<ul>\n",
    "<li>A variable name must start with a letter or the underscore character.</li>\n",
    "<li>A variable name cannot start with a number.</li>\n",
    "<li>A variable name can only contain alpha-numeric characters and underscores (A-z, 0-9, and _ ).</li>\n",
    "<li>Variable names are case-sensitive (name, Name and NAME are three different variables).</li>\n",
    "<li>The reserved words(keywords) cannot be used naming the variable.</li>\n",
    "    <li> <strong>Keywords</strong>: ['False', 'None', 'True', 'and', 'as', 'assert', 'async', 'await', 'break', 'class', 'continue', 'def', 'del', 'elif', 'else', 'except', 'finally', 'for', 'from', 'global', 'if', 'import', 'in', 'is', 'lambda', 'nonlocal', 'not', 'or', 'pass', 'raise', 'return', 'try', 'while', 'with', 'yield']</li>\n",
    "    \n",
    "<ul>"
   ]
  },
  {
   "cell_type": "markdown",
   "id": "53f1945e",
   "metadata": {},
   "source": [
    "### Operatori di confronto"
   ]
  },
  {
   "cell_type": "markdown",
   "id": "2297dab0",
   "metadata": {},
   "source": [
    "Python supporta gli operatori di confronto, che confrontano due operandi e restituiscono un valore booleano (Vero o Falso):\n",
    "== uguale , != diverso, < minore, >maggiore , <= minore uguale, >= maggiore uguale"
   ]
  },
  {
   "cell_type": "code",
   "execution_count": 91,
   "id": "e4c3626b",
   "metadata": {},
   "outputs": [
    {
     "name": "stdout",
     "output_type": "stream",
     "text": [
      "True\n",
      "False\n",
      "True\n",
      "True\n",
      "False\n",
      "True\n"
     ]
    }
   ],
   "source": [
    "print(1==1)\n",
    "\n",
    "print(1==2)\n",
    "\n",
    "print(1!=2)\n",
    "\n",
    "print(2>1)\n",
    "\n",
    "print(2<1)\n",
    "\n",
    "print(1.5>=1)"
   ]
  },
  {
   "cell_type": "markdown",
   "id": "406c12a6",
   "metadata": {},
   "source": [
    "### Operatori AND, OR, NOT"
   ]
  },
  {
   "cell_type": "markdown",
   "id": "9f559ead",
   "metadata": {},
   "source": [
    "Python supporta anche gli operatori booleani and, or e not, che possono essere utilizzati per costruire espressioni logiche.\n",
    "Ogni oggetto Python è True (numeri interi o float non nulli, la costante Vero, sequenze o collezioni non vuote) o False (il numero 0, le costanti Falso e None, sequenze o collezioni vuote). Il cosiddetto valore di verità di un oggetto è accessibile con la funzione bool()"
   ]
  },
  {
   "cell_type": "code",
   "execution_count": 92,
   "id": "119afb9e",
   "metadata": {},
   "outputs": [
    {
     "name": "stdout",
     "output_type": "stream",
     "text": [
      "True\n"
     ]
    }
   ],
   "source": [
    "print(1>0 and 2==2)"
   ]
  },
  {
   "cell_type": "code",
   "execution_count": 93,
   "id": "40d818fc",
   "metadata": {},
   "outputs": [
    {
     "name": "stdout",
     "output_type": "stream",
     "text": [
      "True\n"
     ]
    }
   ],
   "source": [
    "print(1<0 or 2==2)"
   ]
  },
  {
   "cell_type": "code",
   "execution_count": 94,
   "id": "0447c52b",
   "metadata": {},
   "outputs": [
    {
     "name": "stdout",
     "output_type": "stream",
     "text": [
      "False\n"
     ]
    }
   ],
   "source": [
    "print(not 1>0)"
   ]
  },
  {
   "cell_type": "markdown",
   "id": "3640a572",
   "metadata": {},
   "source": [
    "## Operazioni sulle strighe\n",
    "\n",
    "È possibile creare un oggetto stringa (str) digitando una sequenza di caratteri delimitati da apici singoli o doppi.\n",
    "\n",
    "A differenza dei numeri interi, dei float e dei booleani, una stringa è un insieme di altri oggetti, ovvero i caratteri che la compongono.\n",
    "\n",
    "Poiché una stringa è una sequenza di caratteri, possiamo accedere ai singoli caratteri facendo riferimento al loro ordine (o indice) all'interno dell'oggetto stringa utilizzando le parentesi quadre.\n",
    "\n",
    "È possibile indicizzare una stringa in ordine inverso (partendo dalla fine della stringa) utilizzando numeri negativi.\n",
    "\n",
    "Come la maggior parte dei linguaggi di programmazione, ma a differenza di SAS o R, Python inizia a contare da 0 (indicizzazione a base zero) e non da 1 (indicizzazione a base uno)."
   ]
  },
  {
   "cell_type": "markdown",
   "id": "976485cb",
   "metadata": {},
   "source": [
    "### Concatenazione"
   ]
  },
  {
   "cell_type": "code",
   "execution_count": 95,
   "id": "ac6ac938",
   "metadata": {},
   "outputs": [
    {
     "name": "stdout",
     "output_type": "stream",
     "text": [
      "Ciao Marco\n"
     ]
    }
   ],
   "source": [
    "a= 'Ciao'\n",
    "b= 'Marco'\n",
    "\n",
    "print(a + ' ' + b)"
   ]
  },
  {
   "cell_type": "code",
   "execution_count": 96,
   "id": "2904d476",
   "metadata": {},
   "outputs": [
    {
     "name": "stdout",
     "output_type": "stream",
     "text": [
      "Siamo nell'anno 2022\n"
     ]
    }
   ],
   "source": [
    "#metodo con conversione\n",
    "anno=2022\n",
    "\n",
    "print('Siamo nell\\'anno' + ' ' + str(anno))"
   ]
  },
  {
   "cell_type": "code",
   "execution_count": 97,
   "id": "6edd3129",
   "metadata": {},
   "outputs": [
    {
     "name": "stdout",
     "output_type": "stream",
     "text": [
      "Siamo nell'anno 2022\n"
     ]
    }
   ],
   "source": [
    "#vecchio metodo con format\n",
    "print('Siamo nell\\'anno {}'.format(anno))"
   ]
  },
  {
   "cell_type": "code",
   "execution_count": 98,
   "id": "44cc7df2",
   "metadata": {},
   "outputs": [
    {
     "name": "stdout",
     "output_type": "stream",
     "text": [
      "Siamo nell'anno 2022\n"
     ]
    }
   ],
   "source": [
    "#nuovo metodo\n",
    "anno=2022\n",
    "\n",
    "print( f'Siamo nell\\'anno {anno}')"
   ]
  },
  {
   "cell_type": "markdown",
   "id": "4832c027",
   "metadata": {},
   "source": [
    "### Slicing"
   ]
  },
  {
   "cell_type": "markdown",
   "id": "c9866ef7",
   "metadata": {},
   "source": [
    "<img src=\"https://i1.faceprep.in/Companies-1/string-slicing-in-python.png\" alt=\"300\" width=\"300\" align=\"left\"/>\n"
   ]
  },
  {
   "cell_type": "code",
   "execution_count": 99,
   "id": "decb26b7",
   "metadata": {},
   "outputs": [
    {
     "name": "stdout",
     "output_type": "stream",
     "text": [
      "C\n"
     ]
    }
   ],
   "source": [
    "stringa=\"Ciao\"\n",
    "\n",
    "#Estrarre la prima lettera della stringa (posizione 0)\n",
    "print(stringa[0])"
   ]
  },
  {
   "cell_type": "code",
   "execution_count": 100,
   "id": "fb2b7324",
   "metadata": {},
   "outputs": [
    {
     "name": "stdout",
     "output_type": "stream",
     "text": [
      "ao\n",
      "ia\n",
      "o\n",
      "ao\n"
     ]
    }
   ],
   "source": [
    "#Dalla seconda posizione ossia dalla terza lettera alla fine\n",
    "print(stringa[2:])\n",
    "\n",
    "#Dalla 2° lettera alla 4\n",
    "print(stringa[1:3]) \n",
    "\n",
    "#L'ultima\n",
    "print(stringa[-1:])\n",
    "\n",
    "#Dalla penultima all'ultima\n",
    "print(stringa[-2:])"
   ]
  },
  {
   "cell_type": "code",
   "execution_count": 101,
   "id": "b6cc14d0",
   "metadata": {},
   "outputs": [
    {
     "name": "stdout",
     "output_type": "stream",
     "text": [
      "12\n"
     ]
    }
   ],
   "source": [
    "#length (lunghezza stringa (da quanti caratteri è formata))\n",
    "print(len(frase))"
   ]
  },
  {
   "cell_type": "markdown",
   "id": "23447cad",
   "metadata": {},
   "source": [
    "### Manipolazione delle stringhe"
   ]
  },
  {
   "cell_type": "code",
   "execution_count": 102,
   "id": "6a7225f4",
   "metadata": {},
   "outputs": [],
   "source": [
    "frase= 'Hello World!'"
   ]
  },
  {
   "cell_type": "code",
   "execution_count": 103,
   "id": "e010e6f4",
   "metadata": {},
   "outputs": [
    {
     "name": "stdout",
     "output_type": "stream",
     "text": [
      "hello world!\n"
     ]
    }
   ],
   "source": [
    "#lowercase\n",
    "print(frase.lower() )"
   ]
  },
  {
   "cell_type": "code",
   "execution_count": 104,
   "id": "028db426",
   "metadata": {},
   "outputs": [
    {
     "name": "stdout",
     "output_type": "stream",
     "text": [
      "HELLO WORLD!\n"
     ]
    }
   ],
   "source": [
    "#uppercase\n",
    "print(frase.upper())"
   ]
  },
  {
   "cell_type": "code",
   "execution_count": 105,
   "id": "f38969c9",
   "metadata": {},
   "outputs": [
    {
     "name": "stdout",
     "output_type": "stream",
     "text": [
      "Hello World?\n"
     ]
    }
   ],
   "source": [
    "#replace characters\n",
    "print(frase.replace('!', '?'))"
   ]
  },
  {
   "cell_type": "code",
   "execution_count": 106,
   "id": "66ca11ef",
   "metadata": {},
   "outputs": [
    {
     "name": "stdout",
     "output_type": "stream",
     "text": [
      "3\n"
     ]
    }
   ],
   "source": [
    "#number of specific characters\n",
    "print(frase.count('l'))"
   ]
  },
  {
   "cell_type": "code",
   "execution_count": 107,
   "id": "feaf8c8b",
   "metadata": {},
   "outputs": [
    {
     "name": "stdout",
     "output_type": "stream",
     "text": [
      "['Hello', 'World!']\n"
     ]
    }
   ],
   "source": [
    "print (frase.split(\" \"))"
   ]
  },
  {
   "cell_type": "markdown",
   "id": "ef05df9e",
   "metadata": {},
   "source": [
    "# Modulo 2: Oggetti"
   ]
  },
  {
   "cell_type": "markdown",
   "id": "c1398416",
   "metadata": {},
   "source": [
    "## Liste\n",
    "Le lists sono probabilmente le strutture di dati Python più comuni. Gli elementi all'interno di un elenco sono delimitati da parentesi quadre. Le caratteristiche principali di un elenco sono:\n",
    "- È iterabile: può essere utilizzata in un ciclo for\n",
    "- È una sequenza: caratterizzata da una lunghezza, e si può accedere ai suoi elementi attraverso l'ordine in cui compaiono nell'elenco (indice)\n",
    "- È mutabile: può cambiare il suo stato nel tempo"
   ]
  },
  {
   "cell_type": "markdown",
   "id": "da6f6ab6",
   "metadata": {},
   "source": [
    "<img src=\"https://pynative.com/wp-content/uploads/2021/03/python-list.jpg\" alt=\"350\" width=\"400\" align=\"left\"/>\n"
   ]
  },
  {
   "cell_type": "markdown",
   "id": "f6b58049",
   "metadata": {},
   "source": [
    "### Creare una lista vuota"
   ]
  },
  {
   "cell_type": "code",
   "execution_count": 108,
   "id": "e3a4b786",
   "metadata": {},
   "outputs": [
    {
     "name": "stdout",
     "output_type": "stream",
     "text": [
      "[]\n"
     ]
    }
   ],
   "source": [
    "empty_list = []\n",
    "\n",
    "print(empty_list)"
   ]
  },
  {
   "cell_type": "code",
   "execution_count": 109,
   "id": "0f21c612",
   "metadata": {},
   "outputs": [
    {
     "name": "stdout",
     "output_type": "stream",
     "text": [
      "<class 'list'>\n"
     ]
    }
   ],
   "source": [
    "print(type(empty_list))"
   ]
  },
  {
   "cell_type": "markdown",
   "id": "d4559f43",
   "metadata": {},
   "source": [
    "### Aggiungere un elemento alla lista"
   ]
  },
  {
   "cell_type": "code",
   "execution_count": 110,
   "id": "0142c36f",
   "metadata": {},
   "outputs": [
    {
     "name": "stdout",
     "output_type": "stream",
     "text": [
      "[2, 3, 4, 6]\n"
     ]
    }
   ],
   "source": [
    "lista = [2, 3, 4, 6]\n",
    "\n",
    "print(lista)"
   ]
  },
  {
   "cell_type": "code",
   "execution_count": 111,
   "id": "6f66d28c",
   "metadata": {},
   "outputs": [
    {
     "name": "stdout",
     "output_type": "stream",
     "text": [
      "[2, 3, 4, 6, 11]\n"
     ]
    }
   ],
   "source": [
    "lista.append(11)\n",
    "\n",
    "print(lista)"
   ]
  },
  {
   "cell_type": "markdown",
   "id": "3ddda83b",
   "metadata": {},
   "source": [
    "### Accesso ai componenti della lista"
   ]
  },
  {
   "cell_type": "code",
   "execution_count": 112,
   "id": "0cd208c9",
   "metadata": {},
   "outputs": [
    {
     "name": "stdout",
     "output_type": "stream",
     "text": [
      "2\n"
     ]
    }
   ],
   "source": [
    "lista = [2, 3, 4, 6]\n",
    "\n",
    "print(lista[0])"
   ]
  },
  {
   "cell_type": "code",
   "execution_count": 113,
   "id": "93468196",
   "metadata": {},
   "outputs": [
    {
     "name": "stdout",
     "output_type": "stream",
     "text": [
      "6\n"
     ]
    }
   ],
   "source": [
    "print(lista[-1])"
   ]
  },
  {
   "cell_type": "code",
   "execution_count": 114,
   "id": "3c61015b",
   "metadata": {},
   "outputs": [
    {
     "name": "stdout",
     "output_type": "stream",
     "text": [
      "[2, 3]\n"
     ]
    }
   ],
   "source": [
    "print(lista[0:2])"
   ]
  },
  {
   "cell_type": "code",
   "execution_count": 115,
   "id": "e259ed63",
   "metadata": {},
   "outputs": [
    {
     "data": {
      "text/plain": [
       "[4, 6]"
      ]
     },
     "execution_count": 115,
     "metadata": {},
     "output_type": "execute_result"
    }
   ],
   "source": [
    "lista[2:]"
   ]
  },
  {
   "cell_type": "code",
   "execution_count": 116,
   "id": "8a5c28ac",
   "metadata": {},
   "outputs": [
    {
     "data": {
      "text/plain": [
       "[2, 3, 4]"
      ]
     },
     "execution_count": 116,
     "metadata": {},
     "output_type": "execute_result"
    }
   ],
   "source": [
    "lista[:3]"
   ]
  },
  {
   "cell_type": "code",
   "execution_count": 117,
   "id": "b281b825",
   "metadata": {},
   "outputs": [
    {
     "data": {
      "text/plain": [
       "[2, 3, 4, 6]"
      ]
     },
     "execution_count": 117,
     "metadata": {},
     "output_type": "execute_result"
    }
   ],
   "source": [
    "lista[:]"
   ]
  },
  {
   "cell_type": "markdown",
   "id": "2d9f2513",
   "metadata": {},
   "source": [
    "### Unire due liste differenti"
   ]
  },
  {
   "cell_type": "code",
   "execution_count": 118,
   "id": "816d345b",
   "metadata": {},
   "outputs": [
    {
     "name": "stdout",
     "output_type": "stream",
     "text": [
      "['New York City', 'Chicago', 'London', 'Bristol']\n"
     ]
    }
   ],
   "source": [
    "list_us = ['New York City', 'Chicago']\n",
    "\n",
    "list_uk = ['London', 'Bristol']\n",
    "\n",
    "list_all = list_us + list_uk\n",
    "\n",
    "print(list_all)"
   ]
  },
  {
   "cell_type": "markdown",
   "id": "989dbb32",
   "metadata": {},
   "source": [
    "### Copiare una lista"
   ]
  },
  {
   "cell_type": "code",
   "execution_count": 119,
   "id": "57f512c8",
   "metadata": {},
   "outputs": [
    {
     "name": "stdout",
     "output_type": "stream",
     "text": [
      "[1, 2, 3]\n",
      "[1, 2, 3]\n"
     ]
    }
   ],
   "source": [
    "list_original = [1, 2, 3]\n",
    "\n",
    "list_new = list_original\n",
    "\n",
    "print(list_original)\n",
    "\n",
    "print(list_new)"
   ]
  },
  {
   "cell_type": "code",
   "execution_count": 120,
   "id": "d3ea8672",
   "metadata": {},
   "outputs": [
    {
     "name": "stdout",
     "output_type": "stream",
     "text": [
      "[1, 2, 3]\n",
      "[1, 2]\n"
     ]
    }
   ],
   "source": [
    "list_original = [1, 2, 3]\n",
    "\n",
    "list_new = list_original[:2]\n",
    "\n",
    "print(list_original)\n",
    "\n",
    "print(list_new)"
   ]
  },
  {
   "cell_type": "markdown",
   "id": "1eabc9d8",
   "metadata": {},
   "source": [
    "### Cancellare alcuni elementi da una lista"
   ]
  },
  {
   "cell_type": "code",
   "execution_count": 121,
   "id": "0f2fb022",
   "metadata": {},
   "outputs": [
    {
     "name": "stdout",
     "output_type": "stream",
     "text": [
      "[1, 2, 4, 5]\n"
     ]
    }
   ],
   "source": [
    "list_original = [1, 2, 3, 4, 5]\n",
    "\n",
    "del list_original[2]\n",
    "\n",
    "print(list_original)"
   ]
  },
  {
   "cell_type": "code",
   "execution_count": 122,
   "id": "8482d663",
   "metadata": {},
   "outputs": [
    {
     "name": "stdout",
     "output_type": "stream",
     "text": [
      "[4, 5]\n"
     ]
    }
   ],
   "source": [
    "del list_original[:2]\n",
    "\n",
    "print(list_original)"
   ]
  },
  {
   "cell_type": "code",
   "execution_count": 123,
   "id": "d5b00d42",
   "metadata": {},
   "outputs": [
    {
     "name": "stdout",
     "output_type": "stream",
     "text": [
      "[4, 5]\n"
     ]
    }
   ],
   "source": [
    "del list_original[2:]\n",
    "\n",
    "print(list_original)"
   ]
  },
  {
   "cell_type": "markdown",
   "id": "4b173f31",
   "metadata": {},
   "source": [
    "### Cancellare tutti gli elementi da una lista"
   ]
  },
  {
   "cell_type": "code",
   "execution_count": 124,
   "id": "677c92a1",
   "metadata": {},
   "outputs": [
    {
     "name": "stdout",
     "output_type": "stream",
     "text": [
      "[]\n"
     ]
    }
   ],
   "source": [
    "del list_original[:]\n",
    "\n",
    "print(list_original)"
   ]
  },
  {
   "cell_type": "markdown",
   "id": "0fefa2b2",
   "metadata": {},
   "source": [
    "### Reverse di una lista"
   ]
  },
  {
   "cell_type": "code",
   "execution_count": 125,
   "id": "78a2d38b",
   "metadata": {},
   "outputs": [
    {
     "name": "stdout",
     "output_type": "stream",
     "text": [
      "[6, 5, 1, 0]\n"
     ]
    }
   ],
   "source": [
    "lista = [0, 1, 5, 6]\n",
    "\n",
    "lista.reverse()\n",
    "\n",
    "print(lista)"
   ]
  },
  {
   "cell_type": "markdown",
   "id": "0a86582f",
   "metadata": {},
   "source": [
    "### Ordinare una lista"
   ]
  },
  {
   "cell_type": "code",
   "execution_count": 126,
   "id": "342c386a",
   "metadata": {},
   "outputs": [
    {
     "name": "stdout",
     "output_type": "stream",
     "text": [
      "[0, 1, 5, 6]\n"
     ]
    }
   ],
   "source": [
    "lista = [0, 1, 5, 6]\n",
    "\n",
    "lista.sort()\n",
    "\n",
    "print(lista)"
   ]
  },
  {
   "cell_type": "markdown",
   "id": "7ba72ece",
   "metadata": {},
   "source": [
    "## Tuple\n",
    "\n",
    "Una tupla è un contenitore immutabile. Una volta creata, non si può alterare il suo stato. Una tupla non ha metodi come append(), extend() o remove(). Gli elementi di una tupla sono delimitati da parentesi.\n",
    "Come una list, una tupla è un iterabile e una sequenza. È quindi possibile:\n",
    "- Utilizzarla all'interno di un ciclo for\n",
    "- Determinare la sua lunghezza\n",
    "- Accedere ai suoi elementi attraverso la loro posizione (indice) all'interno della tupla"
   ]
  },
  {
   "cell_type": "markdown",
   "id": "589bc5c1",
   "metadata": {},
   "source": [
    "<img src=\"https://pynative.com/wp-content/uploads/2021/02/python-tuple.jpg\" alt=\"350\" width=\"400\" align=\"left\"/>\n"
   ]
  },
  {
   "cell_type": "markdown",
   "id": "32b632ca",
   "metadata": {},
   "source": [
    "### Creare una tupla vuota"
   ]
  },
  {
   "cell_type": "code",
   "execution_count": 127,
   "id": "b324c3d4",
   "metadata": {},
   "outputs": [
    {
     "name": "stdout",
     "output_type": "stream",
     "text": [
      "()\n"
     ]
    }
   ],
   "source": [
    "empty_tupla = ()\n",
    "\n",
    "print(empty_tupla)"
   ]
  },
  {
   "cell_type": "code",
   "execution_count": 128,
   "id": "67f6efc9",
   "metadata": {},
   "outputs": [
    {
     "name": "stdout",
     "output_type": "stream",
     "text": [
      "<class 'tuple'>\n"
     ]
    }
   ],
   "source": [
    "print(type(empty_tupla))"
   ]
  },
  {
   "cell_type": "markdown",
   "id": "c51a876f",
   "metadata": {},
   "source": [
    "### Accesso ai componenti della tupla"
   ]
  },
  {
   "cell_type": "code",
   "execution_count": 129,
   "id": "27735d23",
   "metadata": {},
   "outputs": [
    {
     "name": "stdout",
     "output_type": "stream",
     "text": [
      "2\n"
     ]
    }
   ],
   "source": [
    "tupla = (2, 3, 4, 6)\n",
    "\n",
    "print(tupla[0])"
   ]
  },
  {
   "cell_type": "code",
   "execution_count": 130,
   "id": "77617355",
   "metadata": {},
   "outputs": [
    {
     "name": "stdout",
     "output_type": "stream",
     "text": [
      "6\n"
     ]
    }
   ],
   "source": [
    "print(tupla[-1])"
   ]
  },
  {
   "cell_type": "code",
   "execution_count": 131,
   "id": "19f15c2c",
   "metadata": {},
   "outputs": [
    {
     "name": "stdout",
     "output_type": "stream",
     "text": [
      "(2, 3)\n"
     ]
    }
   ],
   "source": [
    "print(tupla[0:2])"
   ]
  },
  {
   "cell_type": "code",
   "execution_count": 132,
   "id": "eb9ba960",
   "metadata": {},
   "outputs": [
    {
     "data": {
      "text/plain": [
       "(4, 6)"
      ]
     },
     "execution_count": 132,
     "metadata": {},
     "output_type": "execute_result"
    }
   ],
   "source": [
    "tupla[2:]"
   ]
  },
  {
   "cell_type": "code",
   "execution_count": 133,
   "id": "e63fa4e2",
   "metadata": {},
   "outputs": [
    {
     "data": {
      "text/plain": [
       "(2, 3, 4)"
      ]
     },
     "execution_count": 133,
     "metadata": {},
     "output_type": "execute_result"
    }
   ],
   "source": [
    "tupla[:3]"
   ]
  },
  {
   "cell_type": "code",
   "execution_count": 134,
   "id": "8f204b98",
   "metadata": {},
   "outputs": [
    {
     "data": {
      "text/plain": [
       "(2, 3, 4, 6)"
      ]
     },
     "execution_count": 134,
     "metadata": {},
     "output_type": "execute_result"
    }
   ],
   "source": [
    "tupla[:]"
   ]
  },
  {
   "cell_type": "markdown",
   "id": "74057f72",
   "metadata": {},
   "source": [
    "### Unire due tuple differenti"
   ]
  },
  {
   "cell_type": "code",
   "execution_count": 135,
   "id": "75f6752a",
   "metadata": {},
   "outputs": [
    {
     "name": "stdout",
     "output_type": "stream",
     "text": [
      "('New York City', 'Chicago', 'London', 'Bristol')\n"
     ]
    }
   ],
   "source": [
    "tupla_us = ('New York City', 'Chicago')\n",
    "\n",
    "tupla_uk = ('London', 'Bristol')\n",
    "\n",
    "tupla_all = tupla_us + tupla_uk\n",
    "\n",
    "print(tupla_all)"
   ]
  },
  {
   "cell_type": "markdown",
   "id": "103eaa57",
   "metadata": {},
   "source": [
    "### Copiare una tupla"
   ]
  },
  {
   "cell_type": "code",
   "execution_count": 136,
   "id": "ecc9509c",
   "metadata": {},
   "outputs": [
    {
     "name": "stdout",
     "output_type": "stream",
     "text": [
      "(1, 2, 3)\n",
      "(1, 2, 3)\n"
     ]
    }
   ],
   "source": [
    "tupla_original = (1, 2, 3)\n",
    "\n",
    "tupla_new = tupla_original\n",
    "\n",
    "print(tupla_original)\n",
    "\n",
    "print(tupla_new)"
   ]
  },
  {
   "cell_type": "code",
   "execution_count": 137,
   "id": "00217c52",
   "metadata": {},
   "outputs": [
    {
     "name": "stdout",
     "output_type": "stream",
     "text": [
      "(1, 2, 3)\n",
      "(1, 2)\n"
     ]
    }
   ],
   "source": [
    "tupla_original = (1, 2, 3)\n",
    "\n",
    "tupla_new = tupla_original[:2]\n",
    "\n",
    "print(tupla_original)\n",
    "\n",
    "print(tupla_new)"
   ]
  },
  {
   "cell_type": "markdown",
   "id": "9e4038d9",
   "metadata": {},
   "source": [
    "## Dizionari\n",
    "\n",
    "Un set è un contenitore non ordinato di elementi unici (come un insieme matematico). Gli elementi di un insieme sono delimitati da parentesi graffe. Come le liste e le tuple, gli insiemi sono iterabili, ma non si può accedere ai loro elementi attraverso il loro indice, poiché sono non ordinati (non sequenziali).\n",
    "\n",
    "Un dizionario (oggetto dict) è una struttura dati mutabile i cui elementi sono accessibili non attraverso il loro indice (non è una sequenza), ma attraverso un insieme di chiavi definite dall'utente. Un dizionario è una mappatura di coppie chiave-valore. Come un insieme, i suoi elementi sono delimitati da parentesi graffe, ma gli elementi al suo interno sono caratterizzati dalla struttura chiave : valore"
   ]
  },
  {
   "cell_type": "markdown",
   "id": "ff0edbfa",
   "metadata": {},
   "source": [
    "<img src=\"https://pynative.com/wp-content/uploads/2021/02/dictionaries-in-python.jpg\" alt=\"350\" width=\"400\" align=\"left\"/>\n"
   ]
  },
  {
   "cell_type": "markdown",
   "id": "5305d116",
   "metadata": {},
   "source": [
    "### Creare un dizionario vuoto"
   ]
  },
  {
   "cell_type": "code",
   "execution_count": 138,
   "id": "cc432f0c",
   "metadata": {},
   "outputs": [
    {
     "name": "stdout",
     "output_type": "stream",
     "text": [
      "{}\n"
     ]
    }
   ],
   "source": [
    "empty_dict = {}\n",
    "\n",
    "print(empty_dict)"
   ]
  },
  {
   "cell_type": "code",
   "execution_count": 139,
   "id": "2666c825",
   "metadata": {},
   "outputs": [
    {
     "name": "stdout",
     "output_type": "stream",
     "text": [
      "<class 'dict'>\n"
     ]
    }
   ],
   "source": [
    "print(type(empty_dict))"
   ]
  },
  {
   "cell_type": "markdown",
   "id": "b8690170",
   "metadata": {},
   "source": [
    "### Aggiungere un elemento al dizionario"
   ]
  },
  {
   "cell_type": "code",
   "execution_count": 140,
   "id": "bd024d76",
   "metadata": {},
   "outputs": [
    {
     "name": "stdout",
     "output_type": "stream",
     "text": [
      "{'Anne Stahl': 'astahl@gmail.com', 'Peter Small': 'peters@yandex.com', 'Mark Steel': 'mark@steel.com'}\n"
     ]
    }
   ],
   "source": [
    "emails = {\n",
    "    'Anne Stahl': 'astahl@gmail.com',\n",
    "    'Peter Small': 'peters@yandex.com',\n",
    "    'Mark Steel': 'mark@steel.com'\n",
    "}\n",
    "\n",
    "print(emails)"
   ]
  },
  {
   "cell_type": "code",
   "execution_count": 141,
   "id": "0b5888a7",
   "metadata": {},
   "outputs": [
    {
     "name": "stdout",
     "output_type": "stream",
     "text": [
      "{'Anne Stahl': 'astahl@gmail.com', 'Peter Small': 'peters@yandex.com', 'Mark Steel': 'mark@steel.com', 'Bob': 'bob987@hotmail.com'}\n"
     ]
    }
   ],
   "source": [
    "emails['Bob'] = 'bob987@hotmail.com'\n",
    "\n",
    "print(emails)"
   ]
  },
  {
   "cell_type": "markdown",
   "id": "3087edbc",
   "metadata": {},
   "source": [
    "### Cambiare un valore in un dizionario"
   ]
  },
  {
   "cell_type": "code",
   "execution_count": 142,
   "id": "e65f2f59",
   "metadata": {},
   "outputs": [
    {
     "name": "stdout",
     "output_type": "stream",
     "text": [
      "{'Bangkok': [7, 4, 7, 5], 'Hanoi': [7, 6, 4, 5], 'Manila': [6, 6, 4, 4, 5]}\n"
     ]
    }
   ],
   "source": [
    "city_ratings = {\n",
    "    'Bangkok': [7, 4, 7, 5],\n",
    "    'Hanoi': [7, 6, 4, 5],\n",
    "    'Manila': [6, 6, 4, 4, 5]\n",
    "    }\n",
    "\n",
    "print(city_ratings)"
   ]
  },
  {
   "cell_type": "code",
   "execution_count": 143,
   "id": "cd1b66b4",
   "metadata": {},
   "outputs": [
    {
     "name": "stdout",
     "output_type": "stream",
     "text": [
      "{'Bangkok': [7, 4, 7, 5], 'Hanoi': 8, 'Manila': [6, 6, 4, 4, 5]}\n"
     ]
    }
   ],
   "source": [
    "city_ratings['Hanoi'] = 8\n",
    "\n",
    "print(city_ratings)"
   ]
  },
  {
   "cell_type": "markdown",
   "id": "81c7a9e7",
   "metadata": {},
   "source": [
    "### Accesso ai valori del dizionario"
   ]
  },
  {
   "cell_type": "code",
   "execution_count": 144,
   "id": "b3571d84",
   "metadata": {},
   "outputs": [
    {
     "name": "stdout",
     "output_type": "stream",
     "text": [
      "astahl@gmail.com\n",
      "8\n"
     ]
    }
   ],
   "source": [
    "print(emails['Anne Stahl'])\n",
    "\n",
    "print(city_ratings['Hanoi'])"
   ]
  },
  {
   "cell_type": "markdown",
   "id": "1904e4f5",
   "metadata": {},
   "source": [
    "### Copiare un dizionario"
   ]
  },
  {
   "cell_type": "code",
   "execution_count": 145,
   "id": "a92cbf5a",
   "metadata": {},
   "outputs": [
    {
     "name": "stdout",
     "output_type": "stream",
     "text": [
      "{'Bangkok': [7, 4, 7, 5], 'Hanoi': [7, 6, 4, 5], 'Manila': [6, 6, 4, 4, 5]}\n"
     ]
    }
   ],
   "source": [
    "city_ratings = {\n",
    "    'Bangkok': [7, 4, 7, 5],\n",
    "    'Hanoi': [7, 6, 4, 5],\n",
    "    'Manila': [6, 6, 4, 4, 5]\n",
    "    }\n",
    "\n",
    "dic_new = city_ratings\n",
    "\n",
    "print(dic_new)"
   ]
  },
  {
   "cell_type": "markdown",
   "id": "9cb59baa",
   "metadata": {},
   "source": [
    "### Cancellare alcuni elementi da una dizionario"
   ]
  },
  {
   "cell_type": "code",
   "execution_count": 146,
   "id": "24210dcb",
   "metadata": {},
   "outputs": [
    {
     "name": "stdout",
     "output_type": "stream",
     "text": [
      "{'Anne Stahl': 'astahl@gmail.com', 'Mark Steel': 'mark@steel.com'}\n"
     ]
    }
   ],
   "source": [
    "emails = {\n",
    "    'Anne Stahl': 'astahl@gmail.com',\n",
    "    'Peter Small': 'peters@yandex.com',\n",
    "    'Mark Steel': 'mark@steel.com'\n",
    "}\n",
    "\n",
    "del emails['Peter Small']\n",
    "\n",
    "print(emails)"
   ]
  },
  {
   "cell_type": "markdown",
   "id": "f4a1b42c",
   "metadata": {},
   "source": [
    "### Vedere tutte le chiavi del dizionario"
   ]
  },
  {
   "cell_type": "code",
   "execution_count": 147,
   "id": "0a8a76ca",
   "metadata": {},
   "outputs": [
    {
     "name": "stdout",
     "output_type": "stream",
     "text": [
      "dict_keys(['Anne Stahl', 'Mark Steel'])\n"
     ]
    }
   ],
   "source": [
    "print(emails.keys())"
   ]
  },
  {
   "cell_type": "markdown",
   "id": "5ceda43e",
   "metadata": {},
   "source": [
    "### Vedere tutti i valori del dizionario"
   ]
  },
  {
   "cell_type": "code",
   "execution_count": 148,
   "id": "36e8fe34",
   "metadata": {},
   "outputs": [
    {
     "name": "stdout",
     "output_type": "stream",
     "text": [
      "dict_values(['astahl@gmail.com', 'mark@steel.com'])\n"
     ]
    }
   ],
   "source": [
    "print(emails.values())"
   ]
  },
  {
   "cell_type": "markdown",
   "id": "eb48ed1e",
   "metadata": {},
   "source": [
    "# Modulo 3: Istruzioni e Cicli"
   ]
  },
  {
   "cell_type": "markdown",
   "id": "3459706b",
   "metadata": {},
   "source": [
    "## Istruzioni: IF, ELIF e ELSE\n",
    "\n",
    "Esegue un blocco di codice se un'espressione è valutata come vera.\n",
    "Python esce da un'istruzione if / elif / else non appena la prima condizione dell'istruzione è vera (anche se le altre condizioni all'interno dell'istruzione sono valutate True).\n",
    "\n",
    "**Python supports the usual logical conditions from mathematics:**\n",
    "<ul>\n",
    "<li>Equals: a == b</li>\n",
    "<li>Not Equals: a != b</li>\n",
    "<li>Less than: a < b </li>\n",
    "<li>Less than or equal to: a <= b </li>\n",
    "<li>Greater than: a > b</li>\n",
    "<li>Greater than or equal to: a >= b</li>\n",
    "</ul>\n",
    "These conditions can be used in several ways, most commonly in \"if statements\" and loops.\n",
    "\n",
    "An \"if statement\" is written by using the if keyword."
   ]
  },
  {
   "cell_type": "markdown",
   "id": "659c3c8e",
   "metadata": {},
   "source": [
    "<img src=\"https://files.realpython.com/media/Conditional-Statements-in-Python_Watermarked.9fe9d98a8558.jpg\" width='400' alt='400' align=\"left\"/>\n"
   ]
  },
  {
   "cell_type": "code",
   "execution_count": 149,
   "id": "63072bc1",
   "metadata": {},
   "outputs": [
    {
     "name": "stdout",
     "output_type": "stream",
     "text": [
      "Maggiore!\n"
     ]
    }
   ],
   "source": [
    "#BLOCCHI DI CODICE --> #indentazione (Per separare un blocco di istruzioni dalle altre)\n",
    "\n",
    "x= 1\n",
    "y= 0\n",
    "\n",
    "if x >= y: # 1>=0 ? \n",
    "    print('Maggiore!')  "
   ]
  },
  {
   "cell_type": "code",
   "execution_count": 150,
   "id": "a4016b84",
   "metadata": {},
   "outputs": [
    {
     "name": "stdout",
     "output_type": "stream",
     "text": [
      "Minore!\n"
     ]
    }
   ],
   "source": [
    "if y >= x: # 0>=1 ?\n",
    "    print('Maggiore!')\n",
    "    \n",
    "else:\n",
    "    print('Minore!')"
   ]
  },
  {
   "cell_type": "code",
   "execution_count": 151,
   "id": "2540d3f4",
   "metadata": {},
   "outputs": [
    {
     "name": "stdout",
     "output_type": "stream",
     "text": [
      "Uguali!\n"
     ]
    }
   ],
   "source": [
    "x= 0\n",
    "y= 0\n",
    "\n",
    "if x > y: # 0>0 ?\n",
    "    print('Maggiore!')\n",
    "    \n",
    "elif x == y:\n",
    "    print('Uguali!')\n",
    "    \n",
    "else:\n",
    "    print('Minore!')"
   ]
  },
  {
   "cell_type": "markdown",
   "id": "74449423",
   "metadata": {},
   "source": [
    "## Ciclo WHILE\n"
   ]
  },
  {
   "cell_type": "markdown",
   "id": "9fbd6716",
   "metadata": {},
   "source": [
    "Il ciclo while permette di iterare su tutti gli elementi di un iterabile ed eseguire un determinato blocco di condice affichè la condizione risulti vera. Nel dettaglio:\n",
    "- il ciclo while è introdotto dalla keyword while, seguita da una condizione (len(seq) > 3) e dai due punti (:);\n",
    "- dopo i due punti è presente un blocco di codice indentato (che può anche essere formato da più righe);\n",
    "- il ciclo while esegue il blocco di codice fintanto che la condizione è vera;"
   ]
  },
  {
   "cell_type": "markdown",
   "id": "4c0b0cc9",
   "metadata": {},
   "source": [
    "<img src=\"https://files.realpython.com/media/Python-while-Loops-Indefinite-Iteration_Watermarked.ef0b89ed9dae.jpg\" width='400' alt='400' align=\"left\"/>"
   ]
  },
  {
   "cell_type": "code",
   "execution_count": 152,
   "id": "f271694b",
   "metadata": {},
   "outputs": [
    {
     "name": "stdout",
     "output_type": "stream",
     "text": [
      "Sono in loop!\n"
     ]
    }
   ],
   "source": [
    "#iterazioni: possibilità di eseguire lo stesso blocco di codice due o più volte.\n",
    "\n",
    "#WHILE LOOP: numero di iterazioni non è noto fin dall'inizio.\n",
    "\n",
    "x=0\n",
    "\n",
    "\n",
    "while x<1:  #--> while True\n",
    "    print('Sono in loop!')\n",
    "    break"
   ]
  },
  {
   "cell_type": "code",
   "execution_count": 153,
   "id": "dcf87e8b",
   "metadata": {},
   "outputs": [
    {
     "name": "stdout",
     "output_type": "stream",
     "text": [
      "Sono in loop!\n",
      "Sono in loop!\n",
      "Sono in loop!\n",
      "Sono in loop!\n",
      "Sono in loop!\n",
      "Sono in loop!\n",
      "Sono in loop!\n",
      "Sono in loop!\n",
      "Sono in loop!\n",
      "Sono in loop!\n"
     ]
    }
   ],
   "source": [
    "x=0\n",
    "\n",
    "while x<10:\n",
    "    print('Sono in loop!')\n",
    "    x+=1"
   ]
  },
  {
   "cell_type": "code",
   "execution_count": 154,
   "id": "cfa7d307",
   "metadata": {},
   "outputs": [
    {
     "name": "stdout",
     "output_type": "stream",
     "text": [
      "1\n",
      "2\n",
      "3\n",
      "4\n",
      "5\n",
      "6\n",
      "7\n",
      "8\n",
      "9\n",
      "10\n"
     ]
    }
   ],
   "source": [
    "#Loop over elements of a list\n",
    "\n",
    "i=0\n",
    "lista= [1,2,3,4,5,6,7,8,9,10]\n",
    "\n",
    "while i<len(lista):\n",
    "    print(lista[i]) \n",
    "    i+=1"
   ]
  },
  {
   "cell_type": "code",
   "execution_count": 155,
   "id": "c7d5dbec",
   "metadata": {},
   "outputs": [
    {
     "name": "stdout",
     "output_type": "stream",
     "text": [
      "1\n",
      "2\n",
      "3\n",
      "4\n",
      "5\n",
      "6\n",
      "7\n",
      "8\n",
      "9\n",
      "10\n"
     ]
    }
   ],
   "source": [
    "lista= [1,2,3,4,5,6,7,8,9,10]\n",
    "\n",
    "while len(lista)!=0: # \"finchè la lista non diventa vuota\"\n",
    "    print(lista[0])\n",
    "    lista= lista[1:]\n",
    "    "
   ]
  },
  {
   "cell_type": "code",
   "execution_count": 156,
   "id": "709a0ad7",
   "metadata": {},
   "outputs": [
    {
     "name": "stdout",
     "output_type": "stream",
     "text": [
      "1\n",
      "2\n",
      "3\n",
      "4\n",
      "6\n",
      "7\n",
      "8\n",
      "9\n",
      "10\n"
     ]
    }
   ],
   "source": [
    "#continue\n",
    "\n",
    "i=0\n",
    "lista= [1,2,3,4,5,6,7,8,9,10]\n",
    "\n",
    "while i<len(lista):\n",
    "    \n",
    "    if lista[i]==5:\n",
    "        i+=1\n",
    "        continue\n",
    "        \n",
    "    else:\n",
    "        print(lista[i])\n",
    "        i+=1"
   ]
  },
  {
   "cell_type": "markdown",
   "id": "f93144d4",
   "metadata": {},
   "source": [
    "## Ciclo FOR"
   ]
  },
  {
   "cell_type": "markdown",
   "id": "81ad76d5",
   "metadata": {},
   "source": [
    "Il ciclo for ci permette di iterare su tutti gli elementi di un iterabile ed eseguire un determinato blocco di codice. Un iterabile è un qualsiasi oggetto in grado di restituire tutti gli elementi uno dopo l'altro, come ad esempio liste, tuple, set, dizionari (restituiscono le chiavi), ecc. Nel dettaglio:\n",
    "- il ciclo for è introdotto dalla keyword for, seguita da una variabile, dalla keyword in, da un iterabile, e infine dai due punti (:);\n",
    "- dopo i due punti è presente un blocco di codice indentato (che può anche essere formato da più righe);\n",
    "- il ciclo for itera su tutti gli elementi della sequenza, li assegna alla variabile n, ed esegue il blocco di codice;"
   ]
  },
  {
   "cell_type": "markdown",
   "id": "32337e2d",
   "metadata": {},
   "source": [
    "<img src=\"https://files.realpython.com/media/Python-for-Loops-Definite-Iteration_Watermarked.b38126d495e1.jpg\" width='400' alt='400' align=\"left\"/>"
   ]
  },
  {
   "cell_type": "code",
   "execution_count": 157,
   "id": "53c0f7c4",
   "metadata": {},
   "outputs": [
    {
     "name": "stdout",
     "output_type": "stream",
     "text": [
      "P\n",
      "y\n",
      "t\n",
      "h\n",
      "o\n",
      "n\n"
     ]
    }
   ],
   "source": [
    "#FOR LOOP: numero di iterazioni è noto fin dall'inizio.\n",
    "\n",
    "word= 'Python'\n",
    "\n",
    "for char in word:\n",
    "    print(char)"
   ]
  },
  {
   "cell_type": "code",
   "execution_count": 158,
   "id": "98868679",
   "metadata": {},
   "outputs": [
    {
     "name": "stdout",
     "output_type": "stream",
     "text": [
      "apple\n",
      "ananas\n",
      "cherry\n"
     ]
    }
   ],
   "source": [
    "fruits = [\"apple\", \"ananas\", \"cherry\"]\n",
    "for fruit in fruits:\n",
    "    print(fruit)"
   ]
  },
  {
   "cell_type": "markdown",
   "id": "9a2e99c0",
   "metadata": {},
   "source": [
    "## La funzione range()\n",
    "\n",
    "To loop through a set of code a specified number of times, we can use the range() function. <br>\n",
    "<br>The range() function returns a sequence of numbers, starting from 0 by default, and increments by 1 (by default), and ends at a specified number."
   ]
  },
  {
   "cell_type": "markdown",
   "id": "59781699",
   "metadata": {},
   "source": [
    "### Ciclo FOR"
   ]
  },
  {
   "cell_type": "code",
   "execution_count": 159,
   "id": "0ea8721d",
   "metadata": {},
   "outputs": [
    {
     "name": "stdout",
     "output_type": "stream",
     "text": [
      "0\n",
      "1\n",
      "2\n",
      "3\n",
      "4\n",
      "5\n",
      "6\n",
      "7\n",
      "8\n",
      "9\n"
     ]
    }
   ],
   "source": [
    "for n in range(10):\n",
    "    print(n)"
   ]
  },
  {
   "cell_type": "code",
   "execution_count": 160,
   "id": "45dae2c7",
   "metadata": {},
   "outputs": [
    {
     "name": "stdout",
     "output_type": "stream",
     "text": [
      "0\n",
      "1\n",
      "2\n",
      "3\n",
      "4\n",
      "5\n",
      "6\n",
      "7\n",
      "8\n",
      "9\n"
     ]
    }
   ],
   "source": [
    "for n in range(0, 10):\n",
    "    print(n)"
   ]
  },
  {
   "cell_type": "code",
   "execution_count": 161,
   "id": "cb2501d0",
   "metadata": {},
   "outputs": [
    {
     "name": "stdout",
     "output_type": "stream",
     "text": [
      "0\n",
      "2\n",
      "4\n",
      "6\n",
      "8\n",
      "10\n"
     ]
    }
   ],
   "source": [
    "for n in range(0, 11, 2): #start-stop-stepover\n",
    "    print(n)"
   ]
  },
  {
   "cell_type": "code",
   "execution_count": 162,
   "id": "d669fe3f",
   "metadata": {},
   "outputs": [
    {
     "name": "stdout",
     "output_type": "stream",
     "text": [
      "Hello Marco!\n",
      "Hello Paola!\n",
      "Hello Bob!\n",
      "Hello Giulia!\n",
      "Hello Davide!\n"
     ]
    }
   ],
   "source": [
    "#Write a for loop which print \"Hello \" plus each name in the list. i.e.: \"Hello Bob!\"\n",
    "\n",
    "lista= ['Marco', 'Paola', 'Bob', 'Giulia', 'Davide']\n",
    "\n",
    "for name in lista:\n",
    "    print(f'Hello {name}!')\n"
   ]
  },
  {
   "cell_type": "markdown",
   "id": "eac53773",
   "metadata": {},
   "source": [
    "### Ciclo WHILE"
   ]
  },
  {
   "cell_type": "code",
   "execution_count": 163,
   "id": "3b6f834e",
   "metadata": {},
   "outputs": [
    {
     "name": "stdout",
     "output_type": "stream",
     "text": [
      "Lunghezza:  10\n"
     ]
    }
   ],
   "source": [
    "#Write a loop that counts the number of characters of a given string:\n",
    "\n",
    "word= 'Arcobaleno' #-> length=10\n",
    "\n",
    "l=0\n",
    "\n",
    "while word!='':\n",
    "    l+=1\n",
    "    word= word[1:]\n",
    "    \n",
    "print('Lunghezza: ', l)"
   ]
  },
  {
   "cell_type": "code",
   "execution_count": 164,
   "id": "b3ee861d",
   "metadata": {},
   "outputs": [
    {
     "name": "stdout",
     "output_type": "stream",
     "text": [
      "Lunghezza:  10\n"
     ]
    }
   ],
   "source": [
    "#LENGTH STRING WITH FOR LOOP\n",
    "\n",
    "word= 'Arcobaleno'\n",
    "\n",
    "l=0\n",
    "\n",
    "for char in word:\n",
    "    l+=1\n",
    "    \n",
    "print('Lunghezza: ', l)"
   ]
  },
  {
   "cell_type": "code",
   "execution_count": 165,
   "id": "769408a8",
   "metadata": {},
   "outputs": [
    {
     "name": "stdout",
     "output_type": "stream",
     "text": [
      "[1, 4, 9, 16, 25]\n"
     ]
    }
   ],
   "source": [
    "# Write a program that appends the square of each number to a new list.\n",
    "\n",
    "lista= [1,2,3,4,5]\n",
    "\n",
    "square_numbers= []\n",
    "\n",
    "for n in lista:\n",
    "    square_numbers.append(n**2)\n",
    "    \n",
    "print(square_numbers)"
   ]
  },
  {
   "cell_type": "markdown",
   "id": "511fe108",
   "metadata": {},
   "source": [
    "## Istruzioni BREAK e CONTINUE\n",
    "\n",
    "Python prevede due costrutti che possono essere usati nei cicli for e while:\n",
    "- break: interrompe il ciclo\n",
    "- continue: interrompe l'iterazione corrente e procede alla successiva"
   ]
  },
  {
   "cell_type": "code",
   "execution_count": 166,
   "id": "c5d6f3c5",
   "metadata": {},
   "outputs": [
    {
     "name": "stdout",
     "output_type": "stream",
     "text": [
      "Hello Luke\n"
     ]
    }
   ],
   "source": [
    "while True:\n",
    "    name = input('Enter your name or EXIT to close the program: ')\n",
    "    if (name == 'EXIT'):\n",
    "        break\n",
    "    print('Hello', name)"
   ]
  },
  {
   "cell_type": "code",
   "execution_count": 167,
   "id": "682e091a",
   "metadata": {},
   "outputs": [
    {
     "name": "stdout",
     "output_type": "stream",
     "text": [
      "1\n",
      "2\n",
      "3\n",
      "4\n",
      "6\n",
      "7\n",
      "8\n",
      "9\n",
      "11\n",
      "12\n",
      "13\n",
      "14\n",
      "16\n",
      "17\n",
      "18\n",
      "19\n"
     ]
    }
   ],
   "source": [
    "for i in range(1, 21):\n",
    "    if i % 5 == 0:\n",
    "        continue\n",
    "    print(i)"
   ]
  },
  {
   "cell_type": "code",
   "execution_count": 168,
   "id": "14f510d0",
   "metadata": {},
   "outputs": [
    {
     "name": "stdout",
     "output_type": "stream",
     "text": [
      "Mark\n"
     ]
    }
   ],
   "source": [
    "while True:\n",
    "    name = input('Give me your name. PASS to do nothing, EXIT to finish.')\n",
    "    if name == 'PASS':\n",
    "        continue\n",
    "    if name == 'EXIT':\n",
    "        break\n",
    "    print(name)"
   ]
  },
  {
   "cell_type": "markdown",
   "id": "ae01f4fc",
   "metadata": {},
   "source": [
    "# Modulo 4: Funzioni e Classi"
   ]
  },
  {
   "cell_type": "markdown",
   "id": "7cb6d339",
   "metadata": {},
   "source": [
    "## Funzioni\n",
    "\n",
    "A function is a block of code which only runs when it is called.\n",
    "\n",
    "You can pass data, known as parameters, into a function.\n",
    "\n",
    "A function can return data as a result.\n",
    "\n",
    "**Le funzioni sono degli strumenti molto potenti che ci permettono di raggruppare degli insiemi di istruzioni per svolgere un compito specifico. Le funzioni possono accettare in input degli argomenti/parametri.**\n",
    "\n",
    "**Infine le funzioni ci restituranno un output come risultato della computazione delle istruzioni contenute all'interno.**"
   ]
  },
  {
   "cell_type": "markdown",
   "id": "fe6395bc",
   "metadata": {},
   "source": [
    "<img src=\"https://editor.analyticsvidhya.com/uploads/98650python-functions-banner.png\" width='600' alt='600' align=\"left\"/>"
   ]
  },
  {
   "cell_type": "markdown",
   "id": "15413e35",
   "metadata": {},
   "source": [
    "### Creare una funzione"
   ]
  },
  {
   "cell_type": "code",
   "execution_count": 169,
   "id": "f7ff56e4",
   "metadata": {},
   "outputs": [
    {
     "name": "stdout",
     "output_type": "stream",
     "text": [
      "Hello Marco\n",
      "Hello Loris\n"
     ]
    }
   ],
   "source": [
    "def saluta(nome):\n",
    "    return 'Hello '+ nome\n",
    "    \n",
    "print(saluta('Marco'))\n",
    "print(saluta('Loris'))"
   ]
  },
  {
   "cell_type": "code",
   "execution_count": 170,
   "id": "313a54f6",
   "metadata": {},
   "outputs": [
    {
     "name": "stdout",
     "output_type": "stream",
     "text": [
      "3770\n"
     ]
    }
   ],
   "source": [
    "def somma(n1,n2):\n",
    "    return n1+n2\n",
    "\n",
    "print(somma(1440,2330))"
   ]
  },
  {
   "cell_type": "code",
   "execution_count": 171,
   "id": "6856bd5b",
   "metadata": {},
   "outputs": [
    {
     "name": "stdout",
     "output_type": "stream",
     "text": [
      "Odd\n"
     ]
    }
   ],
   "source": [
    "def even_odd(n): #pari o dispari?\n",
    "    if n%2==0:\n",
    "        return 'Even'\n",
    "    return 'Odd'\n",
    "\n",
    "print(even_odd(3))"
   ]
  },
  {
   "cell_type": "code",
   "execution_count": 172,
   "id": "763cf58e",
   "metadata": {},
   "outputs": [
    {
     "name": "stdout",
     "output_type": "stream",
     "text": [
      "Il valore è:  0.08\n"
     ]
    }
   ],
   "source": [
    "def percentage_calculator(): #Percentage calculator (number, %) -> value  100  10% -> 10\n",
    "    \n",
    "    start= ''\n",
    "    \n",
    "    while start!='q':\n",
    "        \n",
    "        number= int(input('Qual\\'è il numero di partenza? '))\n",
    "        percentage= int(input('Qual\\'è la percentuale da calcolare? '))\n",
    "        value= (number*percentage) /100\n",
    "        \n",
    "        print('Il valore è: ', value)\n",
    "        start= input(\"Per terminare premi 'q' altrimenti premi un altro tasto per calcolare un altro numero \")\n",
    "        \n",
    "percentage_calculator()"
   ]
  },
  {
   "cell_type": "markdown",
   "id": "3de79b83",
   "metadata": {},
   "source": [
    "### Programmino Python"
   ]
  },
  {
   "cell_type": "code",
   "execution_count": 173,
   "id": "b67c19ae",
   "metadata": {},
   "outputs": [],
   "source": [
    "#Check if a string is palindrome or not\n",
    "\n",
    "#Kayak (YES), Madam (YES), Alabama (NO)\n",
    "\n",
    "def palindrome(word): #True or False\n",
    "    \n",
    "    word= word.lower() #lowercased string\n",
    "    \n",
    "    if len(word)==0 or len(word)==1: #CASI BASE (LENGTH=0 OR LENGTH=1)\n",
    "        return True\n",
    "    \n",
    "    elif len(word)==2: #CASO LENGTH=2\n",
    "        if word[0]==word[1]:\n",
    "            return True\n",
    "        else:\n",
    "            return False\n",
    "        \n",
    "    else: #CASO LENGTH>2\n",
    "        for i in range(len(word)//2): # Es: kayak 01(2)35\n",
    "            if word[i]!=word[-(i+1)]:\n",
    "                return False\n",
    "\n",
    "        return True #FINE LOOP (arrivati qui tutti i caratteri sono stati controllati e sono risultati essere uguali) \n"
   ]
  },
  {
   "cell_type": "code",
   "execution_count": 174,
   "id": "e8b85286",
   "metadata": {},
   "outputs": [
    {
     "name": "stdout",
     "output_type": "stream",
     "text": [
      "True\n",
      "True\n",
      "False\n"
     ]
    }
   ],
   "source": [
    "print(palindrome('Kayak'))\n",
    "print(palindrome('Madam'))\n",
    "print(palindrome('Alabama'))"
   ]
  },
  {
   "cell_type": "markdown",
   "id": "3b5c77a6",
   "metadata": {},
   "source": [
    "## Classi\n",
    "\n",
    "Python is an object oriented programming language.\n",
    "\n",
    "Almost everything in Python is an object, with its properties and methods.\n",
    "\n",
    "A Class is like an object constructor, or a \"blueprint\" for creating objects."
   ]
  },
  {
   "cell_type": "markdown",
   "id": "1d29e169",
   "metadata": {},
   "source": [
    "### Creare una classe"
   ]
  },
  {
   "cell_type": "code",
   "execution_count": 175,
   "id": "c4ea3afe",
   "metadata": {},
   "outputs": [],
   "source": [
    "class Hogwarts_students:\n",
    "    \n",
    "    \"This is a Hogwarts_students class\"\n",
    "    \n",
    "    def __init__(self, name, age, house): #Attributi della classe\n",
    "        self.name = name\n",
    "        self.age = age\n",
    "        self.house = house #4 Case: Grifondoro,Serpeverde,Tassorosso,Corvonero\n",
    "\n",
    "\n",
    "    def greet(self): #class method\n",
    "        print('Hello!')\n",
    "        \n",
    "    def spell(self):\n",
    "        print('Expelliarmus!')"
   ]
  },
  {
   "cell_type": "markdown",
   "id": "8d5206d1",
   "metadata": {},
   "source": [
    "### Creare un oggetto\n",
    "\n",
    "Usiamo la classe MyClass per creare degli oggetti"
   ]
  },
  {
   "cell_type": "code",
   "execution_count": 176,
   "id": "e1cfe1a1",
   "metadata": {},
   "outputs": [],
   "source": [
    "harry = Hogwarts_students('Harry', 21, 'Gryffindor')\n",
    "hermione = Hogwarts_students('Hermione', 20, 'Gryffindor')\n",
    "ron = Hogwarts_students('Ron', 22, 'Gryffindor')\n",
    "draco = Hogwarts_students('Draco', 22, 'Slytherin')"
   ]
  },
  {
   "cell_type": "code",
   "execution_count": 177,
   "id": "a7dbb10f",
   "metadata": {},
   "outputs": [
    {
     "name": "stdout",
     "output_type": "stream",
     "text": [
      "Harry 21 Gryffindor\n",
      "Hermione 20 Gryffindor\n",
      "Ron 22 Gryffindor\n",
      "Draco 22 Slytherin\n"
     ]
    }
   ],
   "source": [
    "print(harry.name, harry.age, harry.house)\n",
    "print(hermione.name, hermione.age, hermione.house)\n",
    "print(ron.name, ron.age, ron.house)\n",
    "print(draco.name, draco.age, draco.house)"
   ]
  },
  {
   "cell_type": "code",
   "execution_count": 178,
   "id": "6526e9b6",
   "metadata": {},
   "outputs": [
    {
     "name": "stdout",
     "output_type": "stream",
     "text": [
      "Hello!\n"
     ]
    }
   ],
   "source": [
    "harry.greet()"
   ]
  },
  {
   "cell_type": "code",
   "execution_count": 179,
   "id": "a3162617",
   "metadata": {},
   "outputs": [
    {
     "name": "stdout",
     "output_type": "stream",
     "text": [
      "Expelliarmus!\n"
     ]
    }
   ],
   "source": [
    "hermione.spell()"
   ]
  },
  {
   "cell_type": "code",
   "execution_count": 180,
   "id": "127511b0",
   "metadata": {},
   "outputs": [
    {
     "data": {
      "text/plain": [
       "'Gryffindor'"
      ]
     },
     "execution_count": 180,
     "metadata": {},
     "output_type": "execute_result"
    }
   ],
   "source": [
    "harry.house"
   ]
  }
 ],
 "metadata": {
  "kernelspec": {
   "display_name": "Python 3 (ipykernel)",
   "language": "python",
   "name": "python3"
  },
  "language_info": {
   "codemirror_mode": {
    "name": "ipython",
    "version": 3
   },
   "file_extension": ".py",
   "mimetype": "text/x-python",
   "name": "python",
   "nbconvert_exporter": "python",
   "pygments_lexer": "ipython3",
   "version": "3.12.0"
  },
  "toc": {
   "base_numbering": 1,
   "nav_menu": {},
   "number_sections": true,
   "sideBar": true,
   "skip_h1_title": false,
   "title_cell": "Table of Contents",
   "title_sidebar": "Contents",
   "toc_cell": false,
   "toc_position": {},
   "toc_section_display": true,
   "toc_window_display": false
  }
 },
 "nbformat": 4,
 "nbformat_minor": 5
}
